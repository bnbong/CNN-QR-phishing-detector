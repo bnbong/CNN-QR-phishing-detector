{
 "cells": [
  {
   "cell_type": "markdown",
   "metadata": {},
   "source": [
    "# URL -> QR 코드 변환기\n",
    "\n",
    "URL 데이터셋을 기반으로 QR 코드 이미지를 변환하는 모듈\n",
    "\n",
    "xlsx 파일을 바탕으로 이미지 데이터셋을 생성합니다.\n",
    "\n",
    "프로젝트 루트에 `data/` 폴더를 생성한 후, 폴더 내에 원하는 xlsx 파일을 넣어주세요.\n",
    "\n",
    "데이터셋 필수 컬럼 : `URL (= Data)`, `Label (= Category)`"
   ]
  },
  {
   "cell_type": "code",
   "execution_count": 8,
   "metadata": {},
   "outputs": [],
   "source": [
    "import os\n",
    "from datetime import datetime\n",
    "import pandas as pd\n",
    "import qrcode"
   ]
  },
  {
   "cell_type": "code",
   "execution_count": 9,
   "metadata": {},
   "outputs": [],
   "source": [
    "data_path = '../data/URL.xlsx'  # change me\n",
    "save_dir_path = '../data/images'\n",
    "row_name = 'Data'  # change me\n",
    "label_name = 'Category'  # change me\n",
    "classification_name = 'spam'  # change me\n",
    "phishing_dir = os.path.join(save_dir_path, 'phishing')\n",
    "benign_dir = os.path.join(save_dir_path, 'benign')"
   ]
  },
  {
   "cell_type": "code",
   "execution_count": 10,
   "metadata": {},
   "outputs": [],
   "source": [
    "if not os.path.exists(save_dir_path):\n",
    "    os.makedirs(save_dir_path)\n",
    "if not os.path.exists(phishing_dir):\n",
    "    os.makedirs(phishing_dir)\n",
    "if not os.path.exists(benign_dir):\n",
    "    os.makedirs(benign_dir)"
   ]
  },
  {
   "cell_type": "code",
   "execution_count": 11,
   "metadata": {},
   "outputs": [],
   "source": [
    "df = pd.read_excel(data_path)\n",
    "\n",
    "phishing_count = 0\n",
    "benign_count = 0\n",
    "\n",
    "for index, row in df.iterrows():\n",
    "    url = row[row_name]\n",
    "    label = row[label_name]\n",
    "\n",
    "    qr = qrcode.QRCode(\n",
    "        version=1,\n",
    "        error_correction=qrcode.constants.ERROR_CORRECT_L,\n",
    "        box_size=10,\n",
    "        border=4,\n",
    "    )\n",
    "    qr.add_data(url)\n",
    "    qr.make(fit=True)\n",
    "    img = qr.make_image(fill_color=\"black\", back_color=\"white\")\n",
    "    \n",
    "    current_time = datetime.now().strftime('%Y%m%d%H%M%S')\n",
    "    filename = f\"{current_time}-{index}.png\"\n",
    "    \n",
    "    # QR 코드 라벨링 (분류 : 폴더)\n",
    "    if label == classification_name:\n",
    "        save_path = os.path.join(phishing_dir, filename)\n",
    "        phishing_count += 1\n",
    "    else:\n",
    "        save_path = os.path.join(benign_dir, filename)\n",
    "        benign_count += 1\n",
    "    \n",
    "    img.save(save_path)"
   ]
  },
  {
   "cell_type": "code",
   "execution_count": 12,
   "metadata": {},
   "outputs": [
    {
     "name": "stdout",
     "output_type": "stream",
     "text": [
      "\n",
      "=== QR 코드 생성 완료 ===\n",
      "총 생성된 QR 코드 이미지: 45373개\n",
      "피싱 QR 코드 이미지: 22686개\n",
      "정상 QR 코드 이미지: 22687개\n",
      "=====================\n"
     ]
    }
   ],
   "source": [
    "total_count = phishing_count + benign_count\n",
    "print(f\"\\n=== QR 코드 생성 완료 ===\")\n",
    "print(f\"총 생성된 QR 코드 이미지: {total_count}개\")\n",
    "print(f\"피싱 QR 코드 이미지: {phishing_count}개\")\n",
    "print(f\"정상 QR 코드 이미지: {benign_count}개\")\n",
    "print(\"=====================\")"
   ]
  }
 ],
 "metadata": {
  "kernelspec": {
   "display_name": "venv",
   "language": "python",
   "name": "python3"
  },
  "language_info": {
   "codemirror_mode": {
    "name": "ipython",
    "version": 3
   },
   "file_extension": ".py",
   "mimetype": "text/x-python",
   "name": "python",
   "nbconvert_exporter": "python",
   "pygments_lexer": "ipython3",
   "version": "3.12.4"
  }
 },
 "nbformat": 4,
 "nbformat_minor": 2
}
