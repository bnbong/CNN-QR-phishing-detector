{
 "cells": [
  {
   "cell_type": "markdown",
   "metadata": {},
   "source": [
    "# QR 코드 피싱 탐지기\n",
    "\n",
    "학습된 CNN 모델을 사용하여 QR 코드 이미지가 피싱 사이트로 연결되는지 판별합니다."
   ]
  },
  {
   "cell_type": "code",
   "execution_count": 9,
   "metadata": {},
   "outputs": [],
   "source": [
    "import os\n",
    "import numpy as np\n",
    "from PIL import Image\n",
    "import tensorflow as tf\n",
    "from tensorflow.keras.preprocessing.image import load_img, img_to_array"
   ]
  },
  {
   "cell_type": "code",
   "execution_count": 10,
   "metadata": {},
   "outputs": [
    {
     "name": "stdout",
     "output_type": "stream",
     "text": [
      "모델 로드 완료\n"
     ]
    }
   ],
   "source": [
    "# 모델 로드\n",
    "model_path = '../best_model.h5'  # chage me\n",
    "model = tf.keras.models.load_model(model_path)\n",
    "print(\"모델 로드 완료\")"
   ]
  },
  {
   "cell_type": "code",
   "execution_count": 11,
   "metadata": {},
   "outputs": [],
   "source": [
    "def preprocess_image(image_path, target_size=(128, 128)):\n",
    "    \"\"\"이미지를 전처리하는 함수\"\"\"\n",
    "    # 이미지 로드 및 크기 조정\n",
    "    img = load_img(image_path, color_mode='grayscale', target_size=target_size)\n",
    "    \n",
    "    # 이미지를 배열로 변환\n",
    "    img_array = img_to_array(img)\n",
    "    \n",
    "    # 배치 차원 추가 및 정규화\n",
    "    img_array = np.expand_dims(img_array, axis=0)\n",
    "    img_array = img_array / 255.0\n",
    "    \n",
    "    return img_array\n",
    "\n",
    "def predict_qr_code(image_path):\n",
    "    \"\"\"QR 코드 이미지의 피싱 여부를 예측하는 함수\"\"\"\n",
    "    # 이미지 전처리\n",
    "    processed_img = preprocess_image(image_path)\n",
    "    \n",
    "    # 예측 수행\n",
    "    prediction = model.predict(processed_img)\n",
    "    \n",
    "    # 결과 해석 (0: benign, 1: phishing)\n",
    "    is_phishing = prediction[0][1] > 0.5\n",
    "    confidence = prediction[0][1] if is_phishing else prediction[0][0]\n",
    "    \n",
    "    return {\n",
    "        'is_phishing': is_phishing,\n",
    "        'confidence': float(confidence),\n",
    "        'prediction': prediction[0]\n",
    "    }"
   ]
  },
  {
   "cell_type": "markdown",
   "metadata": {},
   "source": [
    "## 단일 이미지 테스트\n",
    "\n",
    "아래 셀에서 테스트하고 싶은 QR 코드 이미지의 경로를 지정하세요."
   ]
  },
  {
   "cell_type": "code",
   "execution_count": 12,
   "metadata": {},
   "outputs": [],
   "source": [
    "# 테스트할 이미지 경로 지정\n",
    "test_image_path = './badqr.png'  # chage me"
   ]
  },
  {
   "cell_type": "code",
   "execution_count": 13,
   "metadata": {},
   "outputs": [
    {
     "name": "stdout",
     "output_type": "stream",
     "text": [
      "1/1 [==============================] - 0s 54ms/step\n",
      "분석 결과:\n",
      "피싱 여부: 피싱 의심\n",
      "신뢰도: 90.75%\n",
      "\n",
      "상세 예측값:\n",
      "정상 확률: 9.25%\n",
      "피싱 확률: 90.75%\n"
     ]
    }
   ],
   "source": [
    "# 예측 수행\n",
    "result = predict_qr_code(test_image_path)\n",
    "\n",
    "# 결과 출력\n",
    "print(f\"분석 결과:\")\n",
    "print(f\"피싱 여부: {'피싱 의심' if result['is_phishing'] else '정상'}\")\n",
    "print(f\"신뢰도: {result['confidence']*100:.2f}%\")\n",
    "print(f\"\\n상세 예측값:\")\n",
    "print(f\"정상 확률: {result['prediction'][0]*100:.2f}%\")\n",
    "print(f\"피싱 확률: {result['prediction'][1]*100:.2f}%\")"
   ]
  },
  {
   "cell_type": "markdown",
   "metadata": {},
   "source": [
    "## 여러 이미지 일괄 테스트\n",
    "\n",
    "특정 폴더 내의 모든 QR 코드 이미지를 테스트합니다."
   ]
  },
  {
   "cell_type": "code",
   "execution_count": null,
   "metadata": {},
   "outputs": [],
   "source": [
    "# 테스트할 폴더 경로 지정\n",
    "test_folder = 'path/to/your/qr_codes/folder'  # chage me"
   ]
  },
  {
   "cell_type": "code",
   "execution_count": null,
   "metadata": {},
   "outputs": [],
   "source": [
    "def batch_predict(folder_path):\n",
    "    \"\"\"폴더 내의 모든 이미지를 분석하는 함수\"\"\"\n",
    "    results = []\n",
    "    \n",
    "    valid_extensions = ('.png', '.jpg', '.jpeg')\n",
    "    \n",
    "    for filename in os.listdir(folder_path):\n",
    "        if filename.lower().endswith(valid_extensions):\n",
    "            image_path = os.path.join(folder_path, filename)\n",
    "            try:\n",
    "                result = predict_qr_code(image_path)\n",
    "                results.append({\n",
    "                    'filename': filename,\n",
    "                    **result\n",
    "                })\n",
    "            except Exception as e:\n",
    "                print(f\"Error processing {filename}: {str(e)}\")\n",
    "    \n",
    "    return results"
   ]
  },
  {
   "cell_type": "code",
   "execution_count": null,
   "metadata": {},
   "outputs": [],
   "source": [
    "# 예측 수행\n",
    "batch_results = batch_predict(test_folder)\n",
    "\n",
    "# 결과 출력\n",
    "print(f\"분석된 이미지 수: {len(batch_results)}\\n\")\n",
    "for result in batch_results:\n",
    "    print(f\"파일명: {result['filename']}\")\n",
    "    print(f\"판정: {'피싱 의심' if result['is_phishing'] else '정상'}\")\n",
    "    print(f\"신뢰도: {result['confidence']*100:.2f}%\\n\")"
   ]
  }
 ],
 "metadata": {
  "kernelspec": {
   "display_name": "venv",
   "language": "python",
   "name": "python3"
  },
  "language_info": {
   "codemirror_mode": {
    "name": "ipython",
    "version": 3
   },
   "file_extension": ".py",
   "mimetype": "text/x-python",
   "name": "python",
   "nbconvert_exporter": "python",
   "pygments_lexer": "ipython3",
   "version": "3.10.0"
  }
 },
 "nbformat": 4,
 "nbformat_minor": 2
}
