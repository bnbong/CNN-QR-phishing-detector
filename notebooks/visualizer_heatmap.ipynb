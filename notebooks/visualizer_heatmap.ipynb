{
 "cells": [
  {
   "cell_type": "markdown",
   "metadata": {},
   "source": [
    "# Grad-CAM 히드맵 시각화\n",
    "\n",
    "Grad-CAM output 자료를 바탕으로 여러 QR 코드 이미지의 Grad-CAM 결과를 누적하여 히트맵을 생성하는 모듈입니다."
   ]
  },
  {
   "cell_type": "code",
   "execution_count": 15,
   "metadata": {},
   "outputs": [],
   "source": [
    "import tensorflow as tf\n",
    "import numpy as np\n",
    "import matplotlib.pyplot as plt\n",
    "import cv2\n",
    "import os"
   ]
  },
  {
   "cell_type": "code",
   "execution_count": 16,
   "metadata": {},
   "outputs": [],
   "source": [
    "# 환경 설정\n",
    "phishing_folder = '../data/images/test/phishing'  # change me\n",
    "model_path = '../best_model.h5'  # change me"
   ]
  },
  {
   "cell_type": "code",
   "execution_count": 17,
   "metadata": {},
   "outputs": [
    {
     "name": "stdout",
     "output_type": "stream",
     "text": [
      "모델 로드 완료\n"
     ]
    }
   ],
   "source": [
    "# 모델 로드\n",
    "model = tf.keras.models.load_model(model_path)\n",
    "print(\"모델 로드 완료\")"
   ]
  },
  {
   "cell_type": "code",
   "execution_count": 18,
   "metadata": {},
   "outputs": [],
   "source": [
    "# 전처리\n",
    "def preprocess_image(image_path, target_size=(128, 128)):\n",
    "    \"\"\"이미지 전처리\"\"\"\n",
    "    img = tf.keras.preprocessing.image.load_img(image_path, color_mode='grayscale', target_size=target_size)\n",
    "    img_array = tf.keras.preprocessing.image.img_to_array(img)\n",
    "    img_array = np.expand_dims(img_array, axis=0)\n",
    "    img_array = img_array / 255.0\n",
    "    return img_array"
   ]
  },
  {
   "cell_type": "code",
   "execution_count": 19,
   "metadata": {},
   "outputs": [],
   "source": [
    "# Guided Grad-CAM\n",
    "def guided_grad_cam(model, img, layer_name):\n",
    "    \"\"\"Guided Grad-CAM 모델 결정 과정 시각화 함수\"\"\"\n",
    "    img_tensor = tf.convert_to_tensor(img, dtype=tf.float32)\n",
    "    \n",
    "    grad_model = tf.keras.models.Model(\n",
    "        inputs=[model.inputs],\n",
    "        outputs=[model.get_layer(layer_name).output, model.output]\n",
    "    )\n",
    "    \n",
    "    with tf.GradientTape() as tape:\n",
    "        tape.watch(img_tensor)\n",
    "        conv_outputs, predictions = grad_model(img_tensor)\n",
    "        loss = predictions[:, 1]  # 피싱 클래스에 대한 출력\n",
    "    \n",
    "    grads = tape.gradient(loss, conv_outputs)[0]\n",
    "    output = conv_outputs[0]\n",
    "    \n",
    "    weights = tf.reduce_mean(grads, axis=(0, 1))\n",
    "    cam = np.zeros(output.shape[0:2], dtype=np.float32)\n",
    "    \n",
    "    for index, w in enumerate(weights):\n",
    "        cam += w * output[:, :, index]\n",
    "    \n",
    "    cam = cv2.resize(cam.numpy(), (128, 128))\n",
    "    cam = np.maximum(cam, 0)\n",
    "    heatmap = (cam - cam.min()) / (cam.max() - cam.min())\n",
    "    \n",
    "    # Guided Backpropagation\n",
    "    guided_model = tf.keras.models.Model(\n",
    "        inputs=[model.inputs],\n",
    "        outputs=[model.get_layer(layer_name).output]\n",
    "    )\n",
    "    \n",
    "    with tf.GradientTape() as tape:\n",
    "        tape.watch(img_tensor)\n",
    "        outputs = guided_model(img_tensor)\n",
    "    \n",
    "    guided_grads = tape.gradient(outputs, img_tensor)[0]\n",
    "    guided_grads = np.maximum(guided_grads, 0)  # ReLU\n",
    "    \n",
    "    # Guided Grad-CAM\n",
    "    guided_cam = heatmap[..., np.newaxis] * guided_grads\n",
    "    guided_cam = cv2.resize(guided_cam, (128, 128))\n",
    "    \n",
    "    return guided_cam"
   ]
  },
  {
   "cell_type": "code",
   "execution_count": 24,
   "metadata": {},
   "outputs": [],
   "source": [
    "# heat-map visualizer\n",
    "def process_multiple_images(image_folder, model, layer_name='conv2d_2'):\n",
    "    \"\"\"여러 이미지의 Grad-CAM 결과를 누적하여 히트맵 생성\"\"\"\n",
    "    accumulated_heatmap = np.zeros((128, 128))\n",
    "    total_images = 0\n",
    "    \n",
    "    valid_extensions = ('.png', '.jpg', '.jpeg')\n",
    "    \n",
    "    for filename in os.listdir(image_folder):\n",
    "        if filename.lower().endswith(valid_extensions):\n",
    "            try:\n",
    "                image_path = os.path.join(image_folder, filename)\n",
    "                img = preprocess_image(image_path)\n",
    "                \n",
    "                # Grad-CAM generation\n",
    "                grad_cam_result = guided_grad_cam(model, img, layer_name)\n",
    "                \n",
    "                accumulated_heatmap += grad_cam_result\n",
    "                total_images += 1\n",
    "                \n",
    "                if total_images % 10 == 0:\n",
    "                    print(f\"처리된 이미지: {total_images}\")\n",
    "                \n",
    "            except Exception as e:\n",
    "                print(f\"Error processing {filename}: {str(e)}\")\n",
    "    \n",
    "    if total_images > 0:\n",
    "        accumulated_heatmap /= total_images\n",
    "    \n",
    "    return accumulated_heatmap, total_images\n",
    "\n",
    "\n",
    "# def visualize_accumulated_heatmap(heatmap, total_images):\n",
    "#     \"\"\"누적된 히트맵 시각화\"\"\"\n",
    "#     plt.figure(figsize=(10, 8))\n",
    "#     plt.imshow(heatmap, cmap='viridis')\n",
    "#     plt.colorbar(label='Average Activation')\n",
    "#     plt.title(f'Accumulated Grad-CAM Heatmap\\n(Total images: {total_images})')\n",
    "#     plt.axis('off')\n",
    "#     plt.show()\n",
    "    \n",
    "#     plt.savefig('accumulated_heatmap.png', bbox_inches='tight', dpi=300)\n",
    "\n",
    "def visualize_accumulated_heatmap(heatmap, total_images, threshold=0.0050):\n",
    "    \"\"\"누적된 히트맵 시각화\"\"\"\n",
    "    # 임계값 이하의 값들을 0으로 마스킹\n",
    "    masked_heatmap = np.where(heatmap >= threshold, heatmap, 0)\n",
    "    \n",
    "    plt.figure(figsize=(10, 8))\n",
    "    plt.imshow(masked_heatmap, cmap='viridis')\n",
    "    plt.colorbar(label='Average Activation')\n",
    "    plt.title(f'Accumulated Grad-CAM Heatmap\\n(Total images: {total_images})\\n(Threshold: {threshold})')\n",
    "    plt.axis('off')\n",
    "    plt.show()\n",
    "    \n",
    "    plt.savefig('accumulated_heatmap_thresholded.png', bbox_inches='tight', dpi=300)"
   ]
  },
  {
   "cell_type": "code",
   "execution_count": 25,
   "metadata": {},
   "outputs": [
    {
     "name": "stdout",
     "output_type": "stream",
     "text": [
      "처리된 이미지: 10\n",
      "처리된 이미지: 20\n",
      "처리된 이미지: 30\n",
      "처리된 이미지: 40\n",
      "처리된 이미지: 50\n",
      "처리된 이미지: 60\n",
      "처리된 이미지: 70\n",
      "처리된 이미지: 80\n",
      "처리된 이미지: 90\n",
      "처리된 이미지: 100\n",
      "처리된 이미지: 110\n",
      "처리된 이미지: 120\n",
      "처리된 이미지: 130\n",
      "처리된 이미지: 140\n",
      "처리된 이미지: 150\n",
      "처리된 이미지: 160\n",
      "처리된 이미지: 170\n",
      "처리된 이미지: 180\n",
      "처리된 이미지: 190\n",
      "처리된 이미지: 200\n",
      "처리된 이미지: 210\n",
      "처리된 이미지: 220\n",
      "처리된 이미지: 230\n",
      "처리된 이미지: 240\n",
      "처리된 이미지: 250\n"
     ]
    },
    {
     "data": {
      "image/png": "[encoded data removed]",
      "text/plain": [
       "<Figure size 1000x800 with 2 Axes>"
      ]
     },
     "metadata": {},
     "output_type": "display_data"
    },
    {
     "data": {
      "text/plain": [
       "<Figure size 640x480 with 0 Axes>"
      ]
     },
     "metadata": {},
     "output_type": "display_data"
    }
   ],
   "source": [
    "heatmap, total = process_multiple_images(phishing_folder, model)\n",
    "\n",
    "visualize_accumulated_heatmap(heatmap, total)"
   ]
  }
 ],
 "metadata": {
  "kernelspec": {
   "display_name": "venv",
   "language": "python",
   "name": "python3"
  },
  "language_info": {
   "codemirror_mode": {
    "name": "ipython",
    "version": 3
   },
   "file_extension": ".py",
   "mimetype": "text/x-python",
   "name": "python",
   "nbconvert_exporter": "python",
   "pygments_lexer": "ipython3",
   "version": "3.10.0"
  }
 },
 "nbformat": 4,
 "nbformat_minor": 2
}
